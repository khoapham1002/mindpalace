{
 "cells": [
  {
   "cell_type": "markdown",
   "metadata": {},
   "source": [
    "## Lists/Arrays"
   ]
  },
  {
   "cell_type": "code",
   "execution_count": 10,
   "metadata": {},
   "outputs": [
    {
     "name": "stdout",
     "output_type": "stream",
     "text": [
      "[1, 2, 3, 4, 5]\n"
     ]
    }
   ],
   "source": [
    "def remove_duplicates(arr):\n",
    "    return list(dict.fromkeys(arr))\n",
    "\n",
    "input = [1, 2, 2, 3, 4, 4, 5]\n",
    "print(remove_duplicates(input)) # [1, 2, 3, 4, 5]"
   ]
  },
  {
   "cell_type": "code",
   "execution_count": 9,
   "metadata": {},
   "outputs": [
    {
     "name": "stdout",
     "output_type": "stream",
     "text": [
      "[-6, -2, 3, 4, 5]\n",
      "20\n"
     ]
    }
   ],
   "source": [
    "def max_product(arr):\n",
    "    arr.sort()\n",
    "    print(arr)\n",
    "    return max(arr[-1] * arr[-2], arr[0] * arr[1])\n",
    "\n",
    "input = [3, 5, -2, -6, 4]\n",
    "print(max_product(input))  # 20"
   ]
  },
  {
   "cell_type": "code",
   "execution_count": 7,
   "metadata": {},
   "outputs": [
    {
     "name": "stdout",
     "output_type": "stream",
     "text": [
      "True\n",
      "False\n"
     ]
    }
   ],
   "source": [
    "def is_sorted(arr):\n",
    "    return arr == sorted(arr)\n",
    "\n",
    "input1 = [1, 2, 3, 4, 5]\n",
    "input2 = [5, 3, 2, 1]\n",
    "print(is_sorted(input1))  # Output: True\n",
    "print(is_sorted(input2))  # Output: False"
   ]
  },
  {
   "cell_type": "code",
   "execution_count": 6,
   "metadata": {},
   "outputs": [
    {
     "name": "stdout",
     "output_type": "stream",
     "text": [
      "True\n",
      "False\n"
     ]
    }
   ],
   "source": [
    "def is_sorted(arr):\n",
    "    for i in range(len(arr) - 1):\n",
    "        if arr[i] > arr[i + 1]:\n",
    "            return False\n",
    "    return True\n",
    "\n",
    "input1 = [1, 2, 3, 4, 5]\n",
    "input2 = [5, 3, 2, 1]\n",
    "print(is_sorted(input1))  # Output: True\n",
    "print(is_sorted(input2))  # Output: False"
   ]
  },
  {
   "cell_type": "code",
   "execution_count": 5,
   "metadata": {},
   "outputs": [
    {
     "name": "stdout",
     "output_type": "stream",
     "text": [
      "[4, 5, 1, 2, 3]\n",
      "[4, 5, 1, 2, 3]\n"
     ]
    }
   ],
   "source": [
    "def rotate_list(arr, k):\n",
    "    k = k % len(arr)\n",
    "    return arr[-k:] + arr[:-k]\n",
    "\n",
    "input = [1, 2, 3, 4, 5]\n",
    "print(rotate_list(input, 2))  # Output: [4, 5, 1, 2, 3]\n",
    "print(rotate_list(input, 7))  # Output: [4, 5, 1, 2, 3]"
   ]
  },
  {
   "cell_type": "code",
   "execution_count": 5,
   "metadata": {},
   "outputs": [
    {
     "name": "stdout",
     "output_type": "stream",
     "text": [
      "4\n"
     ]
    }
   ],
   "source": [
    "def find_missing_number(arr):\n",
    "    n = len(arr) + 1\n",
    "    expected_sum = n*(n+1)//2\n",
    "    actual_sum = sum(arr)\n",
    "    return expected_sum - actual_sum\n",
    "\n",
    "input = [1, 2, 3, 5]\n",
    "print(find_missing_number(input))  # Output: 4"
   ]
  },
  {
   "cell_type": "code",
   "execution_count": 3,
   "metadata": {},
   "outputs": [
    {
     "name": "stdout",
     "output_type": "stream",
     "text": [
      "[5, 4, 3, 2, 1]\n"
     ]
    }
   ],
   "source": [
    "def reverse_list(arr):\n",
    "    start, end = 0, len(arr) - 1\n",
    "    while start < end:\n",
    "        arr[start], arr[end] = arr[end], arr[start]\n",
    "        start += 1\n",
    "        end -= 1\n",
    "    return arr\n",
    "\n",
    "input = [1, 2, 3, 4, 5]\n",
    "print(reverse_list(input))  # Output: [5, 4, 3, 2, 1]"
   ]
  },
  {
   "cell_type": "code",
   "execution_count": 2,
   "metadata": {},
   "outputs": [
    {
     "name": "stdout",
     "output_type": "stream",
     "text": [
      "[(4, 2), (5, 1)]\n"
     ]
    }
   ],
   "source": [
    "def find_pairs(arr, target):\n",
    "    seen = set()\n",
    "    result = []\n",
    "    for num in arr:\n",
    "        diff = target - num\n",
    "        if diff in seen:\n",
    "            result.append((num, diff))\n",
    "        seen.add(num)\n",
    "    return result\n",
    "\n",
    "print(find_pairs([2, 4, 3, 7, 1, 5, 9], 6))"
   ]
  },
  {
   "cell_type": "code",
   "execution_count": 14,
   "metadata": {},
   "outputs": [
    {
     "name": "stdout",
     "output_type": "stream",
     "text": [
      "4\n",
      "15\n",
      "40\n",
      "None\n",
      "-10\n"
     ]
    }
   ],
   "source": [
    "def second_largest(arr):\n",
    "    largest = second = float('-inf')\n",
    "    for num in arr:\n",
    "        if num > largest:\n",
    "            second = largest\n",
    "            largest = num\n",
    "        elif num > second and num != largest:\n",
    "            second = num\n",
    "\n",
    "    # return second if second != float('-inf') else None\n",
    "    if second != float('-inf'):\n",
    "        return second\n",
    "    else:\n",
    "        return None\n",
    "\n",
    "print(second_largest([1, 2, 3, 4, 5]))  # Output: 4\n",
    "print(second_largest([10, 20, 20, 15, 10]))  # Output: 15\n",
    "print(second_largest([50, 10, 40, 20, 30]))  # Output: 40\n",
    "print(second_largest([5, 5, 5, 5]))  # Output: None\n",
    "print(second_largest([-10, -20, -30, -5]))  # Output: -10"
   ]
  },
  {
   "cell_type": "code",
   "execution_count": null,
   "metadata": {},
   "outputs": [
    {
     "name": "stdout",
     "output_type": "stream",
     "text": [
      "range(0, 5)\n",
      "range(0, 5)\n",
      "range(0, 5)\n",
      "range(0, 5)\n",
      "range(0, 5)\n",
      "[1, 3, 12, 0, 0]\n"
     ]
    }
   ],
   "source": [
    "def move_zeros(arr):\n",
    "    zero_pos = 0\n",
    "    for i in range(len(arr)):\n",
    "        if arr[i] != 0:\n",
    "            arr[i], arr[zero_pos] = arr[zero_pos], arr[i]\n",
    "            zero_pos += 1\n",
    "    return arr\n",
    "\n",
    "print(move_zeros([0, 1, 0, 3, 12]))  # Output: [1, 3, 12, 0, 0]"
   ]
  },
  {
   "cell_type": "code",
   "execution_count": 18,
   "metadata": {},
   "outputs": [
    {
     "name": "stdout",
     "output_type": "stream",
     "text": [
      "[2, 4]\n"
     ]
    }
   ],
   "source": [
    "def find_intersection(arr1, arr2):\n",
    "    set1 = set(arr1)  \n",
    "    # return [num for num in arr2 if num in set1]\n",
    "    result = []\n",
    "    for num in arr2:\n",
    "        if num in set1: \n",
    "            result.append(num)\n",
    "    return result\n",
    "\n",
    "print(find_intersection([1, 2, 3, 4], [2, 4, 6, 8])) "
   ]
  },
  {
   "cell_type": "markdown",
   "metadata": {},
   "source": [
    "## Hash Tables"
   ]
  },
  {
   "cell_type": "code",
   "execution_count": 1,
   "metadata": {},
   "outputs": [
    {
     "name": "stdout",
     "output_type": "stream",
     "text": [
      "{2: 3, 3: 2, 4: 1, 5: 1}\n"
     ]
    }
   ],
   "source": [
    "def count_frequency(arr):\n",
    "    freq = {}\n",
    "    for num in arr:\n",
    "        freq[num] = freq.get(num, 0) + 1\n",
    "    return freq\n",
    "\n",
    "print(count_frequency([2, 3, 2, 4, 3, 2, 5])) # Output: {2: 3, 3: 2, 4: 1, 5: 1}"
   ]
  },
  {
   "cell_type": "code",
   "execution_count": 2,
   "metadata": {},
   "outputs": [
    {
     "name": "stdout",
     "output_type": "stream",
     "text": [
      "w\n"
     ]
    }
   ],
   "source": [
    "def first_unique_char(s):\n",
    "    freq = {}\n",
    "    for char in s:\n",
    "        freq[char] = freq.get(char, 0) + 1\n",
    "    for char in s:\n",
    "        if freq[char] == 1:\n",
    "            return char\n",
    "    return None\n",
    "\n",
    "print(first_unique_char(\"swiss\"))  # Output: \"w\""
   ]
  },
  {
   "cell_type": "code",
   "execution_count": 4,
   "metadata": {},
   "outputs": [
    {
     "name": "stdout",
     "output_type": "stream",
     "text": [
      "<enumerate object at 0x1065f7e70>\n",
      "[0, 3]\n"
     ]
    }
   ],
   "source": [
    "def two_sum(arr, target):\n",
    "    num_map = {}\n",
    "    for i, num in enumerate(arr):\n",
    "        diff = target - num\n",
    "        if diff in num_map:\n",
    "            return [num_map[diff], i]\n",
    "        num_map[num] = i\n",
    "    return None\n",
    "    \n",
    "print(two_sum([2, 6, 11, 7], 9))  # Output: (0, 1)"
   ]
  },
  {
   "cell_type": "code",
   "execution_count": 6,
   "metadata": {},
   "outputs": [
    {
     "name": "stdout",
     "output_type": "stream",
     "text": [
      "[2, 4]\n"
     ]
    }
   ],
   "source": [
    "def list_intersection(arr1, arr2):\n",
    "    set1 = set(arr1)\n",
    "    return [num for num in arr2 if num in set1]\n",
    "    # result = []\n",
    "    # for num in arr2: \n",
    "    #     if num in set1: \n",
    "    #         result.append(num)\n",
    "    # return result\n",
    "print(list_intersection([1, 2, 3, 4], [2, 4, 6, 8]))  # Output: [2, 4]"
   ]
  },
  {
   "cell_type": "code",
   "execution_count": 7,
   "metadata": {},
   "outputs": [
    {
     "name": "stdout",
     "output_type": "stream",
     "text": [
      "[4, 2]\n"
     ]
    }
   ],
   "source": [
    "def find_duplicates(arr):\n",
    "    seen = set()\n",
    "    duplicates = []\n",
    "    for num in arr:\n",
    "        if num in seen:\n",
    "            duplicates.append(num)\n",
    "        else:\n",
    "            seen.add(num)\n",
    "    return duplicates\n",
    "\n",
    "print(find_duplicates([4, 2, 7, 4, 8, 2]))  # Output: [4, 2]"
   ]
  },
  {
   "cell_type": "markdown",
   "metadata": {},
   "source": [
    "## Stacks & Queues"
   ]
  },
  {
   "cell_type": "markdown",
   "metadata": {},
   "source": []
  },
  {
   "cell_type": "markdown",
   "metadata": {},
   "source": [
    "### Q1: Count the Employees\n",
    "\n",
    "The data for the number employed at several famous IT companies is maintained in the `COMPANY` table. Write a query to print the `ID`s of the companies that have more than **10,000** employees, in ascending order of `ID`.\n",
    "\n",
    "**Input Format:**  \n",
    "| Name      | Type    | Description |\n",
    "|-----------|--------|-------------|\n",
    "| `ID`      | Integer | A company ID in the inclusive range **[1,1000]**. This is the primary key. |\n",
    "| `NAME`    | String  | A company name. This field contains between **1 and 100** characters (inclusive). |\n",
    "| `EMPLOYEES` | Integer | The total number of employees in the company. |\n",
    "\n",
    "**Output Format:**\n",
    "The result should contain the `ID`s of all the companies that have more than **10,000** employees, in ascending order in the following format:\n",
    "```\n",
    "COMPANY.ID\n",
    "```\n",
    "\n",
    "**Sample Input:**  \n",
    "| ID | NAME        | EMPLOYEES |\n",
    "|----|------------|-----------|\n",
    "| 1  | Adobe      | 28085     |\n",
    "| 2  | Flipkart   | 35543     |\n",
    "| 3  | Amazon     | 1089      |\n",
    "| 4  | Paytm      | 9982      |\n",
    "| 5  | BookMyShow | 5589      |\n",
    "| 6  | Oracle     | 4003      |\n",
    "| 7  | NIIT       | 57782     |\n",
    "| 8  | Samsung    | 2000      |\n",
    "| 9  | TCS        | 10046     |\n",
    "| 10 | Wipro      | 3500      |\n",
    "\n",
    "**Sample Output:**\n",
    "```\n",
    "1\n",
    "2\n",
    "7\n",
    "9\n",
    "```\n",
    "\n",
    "**Explanation:**  \n",
    "**Adobe, Flipkart, NIIT, and TCS** have greater than **10,000** employees, so their `ID`s are printed."
   ]
  },
  {
   "cell_type": "markdown",
   "metadata": {},
   "source": [
    "### Q2: FizzBuzz\n",
    "\n",
    "Given a number **n**, for each integer **i** in the range from **1 to n** inclusive, print one value per line as follows:  \n",
    "- If **i** is a multiple of both **3** and **5**, print **FizzBuzz**.\n",
    "- If **i** is a multiple of **3** (but not **5**), print **Fizz**.\n",
    "- If **i** is a multiple of **5** (but not **3**), print **Buzz**.\n",
    "- If **i** is not a multiple of **3** or **5**, print the value of **i**.\n",
    "\n",
    "**Function Description:**  \n",
    "Complete the function *fizzBuzz* in the editor below.\n",
    "*fizzBuzz* has the following parameter(s):  \n",
    "    `int n`: upper limit of values to test (inclusive)\n",
    "\n",
    "***Returns:*** NONE  \n",
    "***Prints:***    \n",
    "The function must print the appropriate response for each value **i** in the set {1, 2, ... n} in ascending order, each on a separate line.\n",
    "\n",
    "\n",
    "\n",
    "**Constraints:**  \n",
    "- \\( 0 < n < 2 \\times 10^5 \\)\n",
    "\n",
    "**Input Format for Custom Testing:**  \n",
    "Input from stdin will be processed as follows and passed to the function.\n",
    "\n",
    "The single integer **n**, the limit of the range to test: [1, 2, ... n].\n",
    "\n",
    "**Sample Case 0:**\n",
    "**Sample Input**  \n",
    "```\n",
    "STDIN   Function\n",
    "-----   --------\n",
    "15  ->  n = 15\n",
    "```\n",
    "\n",
    "**Sample Output:**  \n",
    "```\n",
    "1\n",
    "2\n",
    "Fizz\n",
    "4\n",
    "Buzz\n",
    "Fizz\n",
    "7\n",
    "8\n",
    "Fizz\n",
    "Buzz\n",
    "11\n",
    "Fizz\n",
    "13\n",
    "14\n",
    "FizzBuzz\n",
    "```\n",
    "\n",
    "**Explanation:**  \n",
    "- The numbers **3, 6, 9, and 12** are multiples of **3** (but not **5**), so print **Fizz** on those lines.\n",
    "- The numbers **5 and 10** are multiples of **5** (but not **3**), so print **Buzz** on those lines.\n",
    "- The number **15** is a multiple of both **3 and 5**, so print **FizzBuzz** on that line.\n",
    "- None of the other values is a multiple of either **3 or 5**, so print the value of **i** on those lines."
   ]
  },
  {
   "cell_type": "markdown",
   "metadata": {},
   "source": []
  }
 ],
 "metadata": {
  "kernelspec": {
   "display_name": "conda_env",
   "language": "python",
   "name": "python3"
  },
  "language_info": {
   "codemirror_mode": {
    "name": "ipython",
    "version": 3
   },
   "file_extension": ".py",
   "mimetype": "text/x-python",
   "name": "python",
   "nbconvert_exporter": "python",
   "pygments_lexer": "ipython3",
   "version": "3.12.2"
  }
 },
 "nbformat": 4,
 "nbformat_minor": 2
}
